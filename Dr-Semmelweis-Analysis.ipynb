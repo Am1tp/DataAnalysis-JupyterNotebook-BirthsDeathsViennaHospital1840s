{
 "cells": [
  {
   "cell_type": "markdown",
   "id": "3206ed83-dd3a-460f-b385-6ec3c55533ca",
   "metadata": {},
   "source": [
    "## Visualising Births & Deaths at Vienna Hospital in the 1840s\n",
    "#### From the perspective of Dr Semmelweis, a Physician working at the hospital attempting to figure out why so many women in maternity wards were dying from childbed fever(puerperal fever)"
   ]
  },
  {
   "cell_type": "code",
   "execution_count": null,
   "id": "4b1d6004-47b5-4627-9c9f-86f024dbe9ed",
   "metadata": {},
   "outputs": [],
   "source": []
  }
 ],
 "metadata": {
  "kernelspec": {
   "display_name": "Python 3 (ipykernel)",
   "language": "python",
   "name": "python3"
  },
  "language_info": {
   "codemirror_mode": {
    "name": "ipython",
    "version": 3
   },
   "file_extension": ".py",
   "mimetype": "text/x-python",
   "name": "python",
   "nbconvert_exporter": "python",
   "pygments_lexer": "ipython3",
   "version": "3.12.4"
  }
 },
 "nbformat": 4,
 "nbformat_minor": 5
}
